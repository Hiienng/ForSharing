{
 "cells": [
  {
   "cell_type": "markdown",
   "metadata": {},
   "source": [
    "## Day 2:"
   ]
  },
  {
   "cell_type": "markdown",
   "metadata": {},
   "source": [
    "Tóm tắt buổi học:\n",
    "1. Thực hành:\n",
    "    - Các object và hiểu biết cơ bản về lập trình (Xem trước khóa Python 3: Fundamentals)\n",
    "2. Ứng dụng:\n",
    "    - Tự động hóa các action với Python và Task Schedule\n",
    "\n",
    "3. Kỹ năng đọc code"
   ]
  },
  {
   "cell_type": "markdown",
   "metadata": {},
   "source": [
    "## NỘI DUNG CHÍNH\n",
    "\n",
    "Mô tả tình huống:\n",
    "\n",
    "Hãy tạo lập một quy trình tự động kéo dữ liệu nhóm bảng A (trên server) về bảng B (trên server) và tạo connection với Dashboard C trên Power BI"
   ]
  },
  {
   "cell_type": "markdown",
   "metadata": {},
   "source": []
  }
 ],
 "metadata": {
  "kernelspec": {
   "display_name": "Python 3",
   "language": "python",
   "name": "python3"
  },
  "language_info": {
   "codemirror_mode": {
    "name": "ipython",
    "version": 3
   },
   "file_extension": ".py",
   "mimetype": "text/x-python",
   "name": "python",
   "nbconvert_exporter": "python",
   "pygments_lexer": "ipython3",
   "version": "3.11.3"
  },
  "orig_nbformat": 4
 },
 "nbformat": 4,
 "nbformat_minor": 2
}
