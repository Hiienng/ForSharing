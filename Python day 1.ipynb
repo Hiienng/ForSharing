{
 "cells": [
  {
   "cell_type": "markdown",
   "metadata": {},
   "source": [
    "## Day 1:"
   ]
  },
  {
   "cell_type": "markdown",
   "metadata": {},
   "source": [
    "Tóm tắt buổi trao đổi:\n",
    "1. Lý thuyết:\n",
    "    - Giới thiệu môi trường Development Environment sử dụng ngôn ngữ Python (GG Colab, Anaconda, VS Code,...)\n",
    "    - Môi trường manipulate code giữa các thành viên: Github, Gitlab,...\n",
    "2. Thực hành:\n",
    "    - Tương tác cơ bản VS Code, py., ipynb. \n",
    "    - Python 3: Fundamentals\n",
    "3. Ứng dụng:\n",
    "    - Đọc dữ liệu: từ flat file, từ server\n",
    "    - Manipulate dữ liệu\n",
    "    - Visualize dữ liệu"
   ]
  },
  {
   "cell_type": "markdown",
   "metadata": {},
   "source": [
    "## NỘI DUNG CHÍNH\n",
    "\n",
    "Mô tả tình huống:\n",
    "\n",
    "Có dữ liệu lãi suất huy động của 10 ngân hàng được quét mỗi tuần lưu trên server. \n",
    "Hãy vẽ line chart thể hiện lãi suất VPB so với lãi suất trung bình thị trường tại kỳ hạn 6 tháng."
   ]
  },
  {
   "cell_type": "markdown",
   "metadata": {},
   "source": [
    "### 1. Đọc dữ liệu\n",
    "##### Đọc dữ liệu từ server\n",
    "\n",
    "- Yêu cầu: Đọc dữ liệu từ bảng sau:  USER_DATA.LANDT19.BANK_INTEREST_HIST \n",
    "- Gợi ý: Sử dụng thư viện pyodbc"
   ]
  },
  {
   "cell_type": "code",
   "execution_count": 2,
   "metadata": {},
   "outputs": [],
   "source": [
    "# Gợi ý:\n",
    "#!pip install pandas\n",
    "#import pandas as pd\n",
    "\n",
    "#code ở đây"
   ]
  },
  {
   "cell_type": "markdown",
   "metadata": {},
   "source": [
    "Trường hợp không thể kết nối server, hãy triển khai đọc từ flat file đính kèm"
   ]
  },
  {
   "cell_type": "code",
   "execution_count": null,
   "metadata": {},
   "outputs": [],
   "source": [
    "#code ở đây"
   ]
  },
  {
   "cell_type": "markdown",
   "metadata": {},
   "source": [
    "### 2. Lọc dữ liệu - Manipulate data\n",
    "\n",
    "- Yêu cầu: Hãy nghiên cứu vấn đề của database (dữ liệu lặp dòng, dữ liệu quá nhiều trường null, 1 ngân hàng có 2 lãi suất cùng kỳ hạn và phân khúc kh trong ngày...). Triển khai code giải quyết issue trên để tinh gọn dữ liệu\n",
    "- Gợi ý: Sử dụng thư viện Pandas"
   ]
  },
  {
   "cell_type": "code",
   "execution_count": null,
   "metadata": {},
   "outputs": [],
   "source": [
    "#code ở đây"
   ]
  },
  {
   "cell_type": "markdown",
   "metadata": {},
   "source": [
    "### 3. Vẽ dashboard\n",
    "- Yêu cầu: vẽ line chart thể hiện lãi suất VPB so với lãi suất trung bình thị trường tại kỳ hạn 6 tháng.\n",
    "- Gợi ý sử dụng thư viện matplotlib"
   ]
  },
  {
   "cell_type": "code",
   "execution_count": null,
   "metadata": {},
   "outputs": [],
   "source": [
    "#code ở đây"
   ]
  },
  {
   "cell_type": "markdown",
   "metadata": {},
   "source": []
  }
 ],
 "metadata": {
  "kernelspec": {
   "display_name": "Python 3",
   "language": "python",
   "name": "python3"
  },
  "language_info": {
   "codemirror_mode": {
    "name": "ipython",
    "version": 3
   },
   "file_extension": ".py",
   "mimetype": "text/x-python",
   "name": "python",
   "nbconvert_exporter": "python",
   "pygments_lexer": "ipython3",
   "version": "3.11.3"
  },
  "orig_nbformat": 4
 },
 "nbformat": 4,
 "nbformat_minor": 2
}
